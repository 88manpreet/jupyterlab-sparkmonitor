{
 "cells": [
  {
   "cell_type": "code",
   "execution_count": 1,
   "metadata": {
    "execution": {
     "iopub.execute_input": "2020-07-21T00:41:42.859586Z",
     "iopub.status.busy": "2020-07-21T00:41:42.859367Z",
     "iopub.status.idle": "2020-07-21T00:42:00.271844Z",
     "shell.execute_reply": "2020-07-21T00:42:00.271387Z",
     "shell.execute_reply.started": "2020-07-21T00:41:42.859559Z"
    }
   },
   "outputs": [],
   "source": [
    "from pyspark import SparkContext\n",
    "from pyspark.sql import SparkSession\n",
    "from pyspark import SparkConf\n",
    "# start the spark context using the SparkConf the extension inserted\n",
    "# sc=SparkContext.getOrCreate(conf=conf) #Start the spark context\n",
    "spark = SparkSession.builder.config('spark.driver.extraClassPath','/Users/benepstein/Documents/Github/jupyterlab-sparkmonitor/venv/lib/python3.7/site-packages/sparkmonitor/listener.jar').config('spark.extraListeners','sparkmonitor.listener.JupyterSparkMonitorListener').getOrCreate()\n",
    "sc = spark.sparkContext\n",
    "# sc\n",
    "# spark = SparkSession.builder.getOrCreate()\n"
   ]
  },
  {
   "cell_type": "code",
   "execution_count": 4,
   "metadata": {
    "execution": {
     "iopub.execute_input": "2020-07-21T00:42:21.974075Z",
     "iopub.status.busy": "2020-07-21T00:42:21.973874Z",
     "iopub.status.idle": "2020-07-21T00:42:22.107023Z",
     "shell.execute_reply": "2020-07-21T00:42:22.105256Z",
     "shell.execute_reply.started": "2020-07-21T00:42:21.974050Z"
    }
   },
   "outputs": [
    {
     "data": {
      "text/plain": [
       "[0, 1, 2, 3, 4, 5, 6, 7, 8, 9]"
      ]
     },
     "execution_count": 4,
     "metadata": {},
     "output_type": "execute_result"
    }
   ],
   "source": [
    "spark.sparkContext.parallelize(range(10)).collect()"
   ]
  },
  {
   "cell_type": "code",
   "execution_count": 7,
   "metadata": {
    "execution": {
     "iopub.execute_input": "2020-07-21T00:42:55.236116Z",
     "iopub.status.busy": "2020-07-21T00:42:55.235908Z",
     "iopub.status.idle": "2020-07-21T00:43:02.807495Z",
     "shell.execute_reply": "2020-07-21T00:43:02.807010Z",
     "shell.execute_reply.started": "2020-07-21T00:42:55.236090Z"
    }
   },
   "outputs": [
    {
     "name": "stdout",
     "output_type": "stream",
     "text": [
      "1860\n",
      "1860\n"
     ]
    }
   ],
   "source": [
    "import time\n",
    "b=sc.broadcast([3,5]) #Creating a broadcast variable available on all executors\n",
    "a=sc.accumulator(0)   #Creating an accumulator for adding values across executors\n",
    "RDD0=sc.parallelize([y for y in range(0,5)]) #RDD from input python collection\n",
    "RDD2=sc.parallelize([z for z in range(10,15)])\n",
    "RDD1=RDD0.cartesian(RDD2) \n",
    "cached=RDD2.cache() #Testing cached RDD\n",
    "RDD22=RDD1.map(lambda x:x[0]+x[1]+b.value[0])\n",
    "RDD3=RDD22.repartition(5) # To trigger a new stage.\n",
    "RDD4=RDD2.map(lambda x: 3*x-b.value[0])\n",
    "RDD5=RDD3.filter(lambda x:x%2==0)\n",
    "RDD6=RDD4.filter(lambda x:x%2!=0)\n",
    "RDD7=RDD5.cartesian(RDD6)\n",
    "RDD8=RDD7.flatMap(lambda x: [x[i] for i in range(0,2)])\n",
    "RDD9=RDD8.union(cached)\n",
    "ans=RDD9.reduce(lambda x,y: x+y) # Doing a simple sum on the random data.\n",
    "print(ans)\n",
    "def f(x):\n",
    "    global a\n",
    "    time.sleep(0.8) #Making the job run a little longer\n",
    "    a+=x\n",
    "RDD9.foreach(f)\n",
    "print(a.value)\n",
    "#Display should appear automatically"
   ]
  },
  {
   "cell_type": "code",
   "execution_count": 8,
   "metadata": {
    "execution": {
     "iopub.execute_input": "2020-07-21T00:43:02.808368Z",
     "iopub.status.busy": "2020-07-21T00:43:02.808230Z",
     "iopub.status.idle": "2020-07-21T00:43:02.810889Z",
     "shell.execute_reply": "2020-07-21T00:43:02.810329Z",
     "shell.execute_reply.started": "2020-07-21T00:43:02.808348Z"
    }
   },
   "outputs": [],
   "source": [
    "sc = spark.sparkContext"
   ]
  },
  {
   "cell_type": "code",
   "execution_count": 9,
   "metadata": {
    "execution": {
     "iopub.execute_input": "2020-07-21T00:43:02.812120Z",
     "iopub.status.busy": "2020-07-21T00:43:02.811972Z",
     "iopub.status.idle": "2020-07-21T00:43:05.997777Z",
     "shell.execute_reply": "2020-07-21T00:43:05.997130Z",
     "shell.execute_reply.started": "2020-07-21T00:43:02.812100Z"
    }
   },
   "outputs": [
    {
     "name": "stdout",
     "output_type": "stream",
     "text": [
      "Pi is roughly 3.142200\n",
      "second count\n"
     ]
    }
   ],
   "source": [
    "from time import sleep\n",
    "from random import random\n",
    "from operator import add\n",
    "\n",
    "partitions = 2\n",
    "n = 100000 * partitions\n",
    "\n",
    "def f(_):\n",
    "    x = random() * 2 - 1\n",
    "    y = random() * 2 - 1\n",
    "    return 1 if x ** 2 + y ** 2 <= 1 else 0\n",
    "\n",
    "count = sc.parallelize(range(1, n + 1), partitions).map(f).reduce(add)\n",
    "print(\"Pi is roughly %f\" % (4.0 * count / n))\n",
    "sleep(3)\n",
    "count = sc.parallelize(range(1, n + 1), partitions).map(f).reduce(add)\n",
    "print('second count')"
   ]
  },
  {
   "cell_type": "code",
   "execution_count": 10,
   "metadata": {
    "execution": {
     "iopub.execute_input": "2020-07-21T00:43:05.998749Z",
     "iopub.status.busy": "2020-07-21T00:43:05.998613Z",
     "iopub.status.idle": "2020-07-21T00:43:06.001381Z",
     "shell.execute_reply": "2020-07-21T00:43:06.000855Z",
     "shell.execute_reply.started": "2020-07-21T00:43:05.998731Z"
    }
   },
   "outputs": [
    {
     "name": "stdout",
     "output_type": "stream",
     "text": [
      "hi\n"
     ]
    }
   ],
   "source": [
    "print('hi')"
   ]
  },
  {
   "cell_type": "code",
   "execution_count": 11,
   "metadata": {
    "execution": {
     "iopub.execute_input": "2020-07-21T00:43:06.002318Z",
     "iopub.status.busy": "2020-07-21T00:43:06.002170Z",
     "iopub.status.idle": "2020-07-21T00:43:06.007388Z",
     "shell.execute_reply": "2020-07-21T00:43:06.006850Z",
     "shell.execute_reply.started": "2020-07-21T00:43:06.002298Z"
    }
   },
   "outputs": [
    {
     "name": "stdout",
     "output_type": "stream",
     "text": [
      "second\n"
     ]
    }
   ],
   "source": [
    "print('second')"
   ]
  },
  {
   "cell_type": "code",
   "execution_count": 12,
   "metadata": {
    "execution": {
     "iopub.execute_input": "2020-07-21T00:43:06.008244Z",
     "iopub.status.busy": "2020-07-21T00:43:06.008097Z",
     "iopub.status.idle": "2020-07-21T00:43:12.179793Z",
     "shell.execute_reply": "2020-07-21T00:43:12.179337Z",
     "shell.execute_reply.started": "2020-07-21T00:43:06.008224Z"
    }
   },
   "outputs": [
    {
     "data": {
      "text/plain": [
       "100"
      ]
     },
     "execution_count": 12,
     "metadata": {},
     "output_type": "execute_result"
    }
   ],
   "source": [
    "from time import sleep\n",
    "sc.parallelize(range(0,100)).count()\n",
    "sleep(2)\n",
    "sc.parallelize(range(0,100)).count()\n",
    "sleep(2)\n",
    "sc.parallelize(range(0,100)).count()\n",
    "sleep(2)\n",
    "sc.parallelize(range(0,100)).count()   "
   ]
  },
  {
   "cell_type": "code",
   "execution_count": 13,
   "metadata": {
    "execution": {
     "iopub.execute_input": "2020-07-21T00:43:12.180590Z",
     "iopub.status.busy": "2020-07-21T00:43:12.180444Z",
     "iopub.status.idle": "2020-07-21T00:43:12.183563Z",
     "shell.execute_reply": "2020-07-21T00:43:12.183095Z",
     "shell.execute_reply.started": "2020-07-21T00:43:12.180570Z"
    }
   },
   "outputs": [
    {
     "name": "stdout",
     "output_type": "stream",
     "text": [
      "test no spark\n"
     ]
    }
   ],
   "source": [
    "print('test no spark')"
   ]
  },
  {
   "cell_type": "code",
   "execution_count": 14,
   "metadata": {
    "execution": {
     "iopub.execute_input": "2020-07-21T00:43:12.184925Z",
     "iopub.status.busy": "2020-07-21T00:43:12.184694Z",
     "iopub.status.idle": "2020-07-21T00:43:12.187654Z",
     "shell.execute_reply": "2020-07-21T00:43:12.187090Z",
     "shell.execute_reply.started": "2020-07-21T00:43:12.184905Z"
    }
   },
   "outputs": [
    {
     "name": "stdout",
     "output_type": "stream",
     "text": [
      "another\n"
     ]
    }
   ],
   "source": [
    "print('another')"
   ]
  },
  {
   "cell_type": "markdown",
   "metadata": {},
   "source": [
    "# Test"
   ]
  },
  {
   "cell_type": "code",
   "execution_count": null,
   "metadata": {},
   "outputs": [],
   "source": []
  },
  {
   "cell_type": "code",
   "execution_count": 10,
   "metadata": {
    "execution": {
     "iopub.execute_input": "2020-07-21T00:10:09.635869Z",
     "iopub.status.busy": "2020-07-21T00:10:09.635659Z",
     "iopub.status.idle": "2020-07-21T00:10:16.158241Z",
     "shell.execute_reply": "2020-07-21T00:10:16.157680Z",
     "shell.execute_reply.started": "2020-07-21T00:10:09.635842Z"
    }
   },
   "outputs": [
    {
     "data": {
      "text/plain": [
       "100"
      ]
     },
     "execution_count": 10,
     "metadata": {},
     "output_type": "execute_result"
    }
   ],
   "source": [
    "from time import sleep\n",
    "sc.parallelize(range(0,100)).count()\n",
    "sleep(2)\n",
    "sc.parallelize(range(0,100)).count()\n",
    "sleep(2)\n",
    "sc.parallelize(range(0,100)).count()\n",
    "sleep(2)\n",
    "sc.parallelize(range(0,100)).count()   "
   ]
  },
  {
   "cell_type": "code",
   "execution_count": 14,
   "metadata": {
    "execution": {
     "iopub.execute_input": "2020-07-20T23:18:47.702003Z",
     "iopub.status.busy": "2020-07-20T23:18:47.701853Z",
     "iopub.status.idle": "2020-07-20T23:18:48.697902Z",
     "shell.execute_reply": "2020-07-20T23:18:48.697390Z",
     "shell.execute_reply.started": "2020-07-20T23:18:47.701983Z"
    }
   },
   "outputs": [],
   "source": [
    "sc.stop()"
   ]
  },
  {
   "cell_type": "code",
   "execution_count": null,
   "metadata": {},
   "outputs": [],
   "source": []
  },
  {
   "cell_type": "code",
   "execution_count": null,
   "metadata": {},
   "outputs": [],
   "source": []
  }
 ],
 "metadata": {
  "kernelspec": {
   "display_name": "Python 3",
   "language": "python",
   "name": "python3"
  },
  "language_info": {
   "codemirror_mode": {
    "name": "ipython",
    "version": 3
   },
   "file_extension": ".py",
   "mimetype": "text/x-python",
   "name": "python",
   "nbconvert_exporter": "python",
   "pygments_lexer": "ipython3",
   "version": "3.7.6"
  }
 },
 "nbformat": 4,
 "nbformat_minor": 4
}
